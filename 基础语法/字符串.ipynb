{
 "cells": [
  {
   "cell_type": "code",
   "execution_count": 12,
   "metadata": {
    "collapsed": true,
    "pycharm": {
     "name": "#%%\n"
    }
   },
   "outputs": [
    {
     "data": {
      "text/plain": "11"
     },
     "execution_count": 12,
     "metadata": {},
     "output_type": "execute_result"
    }
   ],
   "source": [
    "#字符串长度\n",
    "test = \"hello world\"\n",
    "len(test)"
   ]
  },
  {
   "cell_type": "code",
   "execution_count": 13,
   "outputs": [
    {
     "name": "stdout",
     "output_type": "stream",
     "text": [
      "\\n转义后会回车，加r就不转义了\n"
     ]
    }
   ],
   "source": [
    "# 原样字符串，不解释转义字符。在字符串前面加r\n",
    "testr = r\"\\n转义后会回车，加r就不转义了\"\n",
    "print(testr)"
   ],
   "metadata": {
    "collapsed": false,
    "pycharm": {
     "name": "#%%\n"
    }
   }
  },
  {
   "cell_type": "code",
   "execution_count": 14,
   "outputs": [
    {
     "name": "stdout",
     "output_type": "stream",
     "text": [
      "我今年43岁\n",
      "今年是2021属牛\n",
      "字母65的ACII码是A\n",
      "圆周率3.141590\n"
     ]
    }
   ],
   "source": [
    "# 格式化字符\n",
    "print(\"我今年%d岁\"%43)\n",
    "print(\"今年是%d属%s\"%(2021,\"牛\"))\n",
    "print(\"字母65的ACII码是%c\"% 65)\n",
    "print(\"圆周率%f\"%3.14159)"
   ],
   "metadata": {
    "collapsed": false,
    "pycharm": {
     "name": "#%%\n"
    }
   }
  },
  {
   "cell_type": "code",
   "execution_count": 16,
   "outputs": [
    {
     "name": "stdout",
     "output_type": "stream",
     "text": [
      "我今天不参加Party\n",
      "今天好象会下雨\n",
      "今年是年年2021\n"
     ]
    }
   ],
   "source": [
    "# 字符串拼接\n",
    "fullstr1 = \"我\" \"今天\" \"不参加\" \"Party\"\n",
    "print(fullstr1)\n",
    "fullstr2 = \"今天\" + \"好象会下雨\"\n",
    "print(fullstr2)\n",
    "# 字符串与数字拼接要用str()和repr()函数\n",
    "# fullstr3 = \"我今年\" + str(43) + \"岁\"\n",
    "# print(fullstr3)\n",
    "fullstr4 = \"今年是年年\" + repr(2021)\n",
    "print(fullstr4)"
   ],
   "metadata": {
    "collapsed": false,
    "pycharm": {
     "name": "#%%\n"
    }
   }
  }
 ],
 "metadata": {
  "kernelspec": {
   "name": "pycharm-622f34bc",
   "language": "python",
   "display_name": "PyCharm (py_bigdata_turial.git)"
  },
  "language_info": {
   "codemirror_mode": {
    "name": "ipython",
    "version": 2
   },
   "file_extension": ".py",
   "mimetype": "text/x-python",
   "name": "python",
   "nbconvert_exporter": "python",
   "pygments_lexer": "ipython2",
   "version": "2.7.6"
  }
 },
 "nbformat": 4,
 "nbformat_minor": 0
}